{
  "nbformat": 4,
  "nbformat_minor": 0,
  "metadata": {
    "colab": {
      "name": "Tuto3.ipynb",
      "provenance": [],
      "toc_visible": true
    },
    "kernelspec": {
      "name": "python3",
      "display_name": "Python 3"
    },
    "language_info": {
      "name": "python"
    },
    "accelerator": "GPU"
  },
  "cells": [
    {
      "cell_type": "markdown",
      "source": [
        "# FEATURES ENGINEERING\n"
      ],
      "metadata": {
        "id": "uYhMKouWsiZ6"
      }
    },
    {
      "cell_type": "code",
      "source": [
        "!pip install dirty_cat==0.1.0"
      ],
      "metadata": {
        "colab": {
          "base_uri": "https://localhost:8080/"
        },
        "id": "SyauZ-ZUsoc6",
        "outputId": "4148141d-754b-4c32-aa59-84ac79b8da3e"
      },
      "execution_count": 1,
      "outputs": [
        {
          "output_type": "stream",
          "name": "stdout",
          "text": [
            "Collecting dirty_cat==0.1.0\n",
            "  Downloading dirty_cat-0.1.0-py3-none-any.whl (111 kB)\n",
            "\u001b[?25l\r\u001b[K     |███                             | 10 kB 26.8 MB/s eta 0:00:01\r\u001b[K     |█████▉                          | 20 kB 29.6 MB/s eta 0:00:01\r\u001b[K     |████████▉                       | 30 kB 32.7 MB/s eta 0:00:01\r\u001b[K     |███████████▊                    | 40 kB 14.9 MB/s eta 0:00:01\r\u001b[K     |██████████████▋                 | 51 kB 13.0 MB/s eta 0:00:01\r\u001b[K     |█████████████████▋              | 61 kB 14.9 MB/s eta 0:00:01\r\u001b[K     |████████████████████▌           | 71 kB 14.5 MB/s eta 0:00:01\r\u001b[K     |███████████████████████▍        | 81 kB 13.9 MB/s eta 0:00:01\r\u001b[K     |██████████████████████████▍     | 92 kB 15.2 MB/s eta 0:00:01\r\u001b[K     |█████████████████████████████▎  | 102 kB 15.5 MB/s eta 0:00:01\r\u001b[K     |████████████████████████████████| 111 kB 15.5 MB/s \n",
            "\u001b[?25hRequirement already satisfied: numpy in /usr/local/lib/python3.7/dist-packages (from dirty_cat==0.1.0) (1.21.5)\n",
            "Requirement already satisfied: joblib in /usr/local/lib/python3.7/dist-packages (from dirty_cat==0.1.0) (1.1.0)\n",
            "Requirement already satisfied: requests in /usr/local/lib/python3.7/dist-packages (from dirty_cat==0.1.0) (2.23.0)\n",
            "Requirement already satisfied: scikit-learn>=0.20 in /usr/local/lib/python3.7/dist-packages (from dirty_cat==0.1.0) (1.0.2)\n",
            "Requirement already satisfied: scipy in /usr/local/lib/python3.7/dist-packages (from dirty_cat==0.1.0) (1.4.1)\n",
            "Requirement already satisfied: threadpoolctl>=2.0.0 in /usr/local/lib/python3.7/dist-packages (from scikit-learn>=0.20->dirty_cat==0.1.0) (3.1.0)\n",
            "Requirement already satisfied: certifi>=2017.4.17 in /usr/local/lib/python3.7/dist-packages (from requests->dirty_cat==0.1.0) (2021.10.8)\n",
            "Requirement already satisfied: chardet<4,>=3.0.2 in /usr/local/lib/python3.7/dist-packages (from requests->dirty_cat==0.1.0) (3.0.4)\n",
            "Requirement already satisfied: idna<3,>=2.5 in /usr/local/lib/python3.7/dist-packages (from requests->dirty_cat==0.1.0) (2.10)\n",
            "Requirement already satisfied: urllib3!=1.25.0,!=1.25.1,<1.26,>=1.21.1 in /usr/local/lib/python3.7/dist-packages (from requests->dirty_cat==0.1.0) (1.24.3)\n",
            "Installing collected packages: dirty-cat\n",
            "Successfully installed dirty-cat-0.1.0\n"
          ]
        }
      ]
    },
    {
      "cell_type": "code",
      "source": [
        "!pip install watermark"
      ],
      "metadata": {
        "colab": {
          "base_uri": "https://localhost:8080/"
        },
        "id": "jKquAknYX-lB",
        "outputId": "423b3652-16c2-4d9d-d3d0-68780dc9c8d6"
      },
      "execution_count": 192,
      "outputs": [
        {
          "output_type": "stream",
          "name": "stdout",
          "text": [
            "Collecting watermark\n",
            "  Downloading watermark-2.3.0-py2.py3-none-any.whl (7.2 kB)\n",
            "Requirement already satisfied: ipython in /usr/local/lib/python3.7/dist-packages (from watermark) (5.5.0)\n",
            "Collecting importlib-metadata<3.0\n",
            "  Downloading importlib_metadata-2.1.3-py2.py3-none-any.whl (10 kB)\n",
            "Requirement already satisfied: zipp>=0.5 in /usr/local/lib/python3.7/dist-packages (from importlib-metadata<3.0->watermark) (3.7.0)\n",
            "Requirement already satisfied: pickleshare in /usr/local/lib/python3.7/dist-packages (from ipython->watermark) (0.7.5)\n",
            "Requirement already satisfied: pexpect in /usr/local/lib/python3.7/dist-packages (from ipython->watermark) (4.8.0)\n",
            "Requirement already satisfied: simplegeneric>0.8 in /usr/local/lib/python3.7/dist-packages (from ipython->watermark) (0.8.1)\n",
            "Requirement already satisfied: setuptools>=18.5 in /usr/local/lib/python3.7/dist-packages (from ipython->watermark) (57.4.0)\n",
            "Requirement already satisfied: traitlets>=4.2 in /usr/local/lib/python3.7/dist-packages (from ipython->watermark) (5.1.1)\n",
            "Requirement already satisfied: decorator in /usr/local/lib/python3.7/dist-packages (from ipython->watermark) (4.4.2)\n",
            "Requirement already satisfied: prompt-toolkit<2.0.0,>=1.0.4 in /usr/local/lib/python3.7/dist-packages (from ipython->watermark) (1.0.18)\n",
            "Requirement already satisfied: pygments in /usr/local/lib/python3.7/dist-packages (from ipython->watermark) (2.6.1)\n",
            "Requirement already satisfied: wcwidth in /usr/local/lib/python3.7/dist-packages (from prompt-toolkit<2.0.0,>=1.0.4->ipython->watermark) (0.2.5)\n",
            "Requirement already satisfied: six>=1.9.0 in /usr/local/lib/python3.7/dist-packages (from prompt-toolkit<2.0.0,>=1.0.4->ipython->watermark) (1.15.0)\n",
            "Requirement already satisfied: ptyprocess>=0.5 in /usr/local/lib/python3.7/dist-packages (from pexpect->ipython->watermark) (0.7.0)\n",
            "Installing collected packages: importlib-metadata, watermark\n",
            "  Attempting uninstall: importlib-metadata\n",
            "    Found existing installation: importlib-metadata 4.11.2\n",
            "    Uninstalling importlib-metadata-4.11.2:\n",
            "      Successfully uninstalled importlib-metadata-4.11.2\n",
            "\u001b[31mERROR: pip's dependency resolver does not currently take into account all the packages that are installed. This behaviour is the source of the following dependency conflicts.\n",
            "markdown 3.3.6 requires importlib-metadata>=4.4; python_version < \"3.10\", but you have importlib-metadata 2.1.3 which is incompatible.\u001b[0m\n",
            "Successfully installed importlib-metadata-2.1.3 watermark-2.3.0\n"
          ]
        }
      ]
    },
    {
      "cell_type": "markdown",
      "source": [
        "## Import Data"
      ],
      "metadata": {
        "id": "9AayV-BztReI"
      }
    },
    {
      "cell_type": "code",
      "source": [
        "from dirty_cat.datasets import fetch_employee_salaries\n",
        "from dirty_cat import SimilarityEncoder\n",
        "\n",
        "import pandas as pd\n",
        "import numpy as np\n",
        "import seaborn as sns"
      ],
      "metadata": {
        "id": "TF7jDX44tT5A"
      },
      "execution_count": 221,
      "outputs": []
    },
    {
      "cell_type": "code",
      "source": [
        "data = fetch_employee_salaries()[\"data\"]"
      ],
      "metadata": {
        "id": "g2kn9oYzttZy"
      },
      "execution_count": 222,
      "outputs": []
    },
    {
      "cell_type": "code",
      "source": [
        "data[\"Date First Hired\"] = pd.to_datetime(data[\"date_first_hired\"])\n",
        "data[\"Year First Hired\"] = data[\"Date First Hired\"].apply(lambda x: x.year)\n",
        "# drop rows with NaN in gender\n",
        "data.dropna(subset=[\"gender\"], inplace=True)"
      ],
      "metadata": {
        "id": "gO2a4kCLA-sB"
      },
      "execution_count": 226,
      "outputs": []
    },
    {
      "cell_type": "code",
      "source": [
        "# 5 fisrt informations \n",
        "data.head(5)"
      ],
      "metadata": {
        "colab": {
          "base_uri": "https://localhost:8080/",
          "height": 600
        },
        "id": "394I3EfRuA7h",
        "outputId": "bbac4236-30c0-4aeb-e289-0807ab3d4d0a"
      },
      "execution_count": 227,
      "outputs": [
        {
          "output_type": "execute_result",
          "data": {
            "text/html": [
              "\n",
              "  <div id=\"df-c7974885-81f7-4a6f-b00c-a888e3d83cca\">\n",
              "    <div class=\"colab-df-container\">\n",
              "      <div>\n",
              "<style scoped>\n",
              "    .dataframe tbody tr th:only-of-type {\n",
              "        vertical-align: middle;\n",
              "    }\n",
              "\n",
              "    .dataframe tbody tr th {\n",
              "        vertical-align: top;\n",
              "    }\n",
              "\n",
              "    .dataframe thead th {\n",
              "        text-align: right;\n",
              "    }\n",
              "</style>\n",
              "<table border=\"1\" class=\"dataframe\">\n",
              "  <thead>\n",
              "    <tr style=\"text-align: right;\">\n",
              "      <th></th>\n",
              "      <th>full_name</th>\n",
              "      <th>gender</th>\n",
              "      <th>2016_gross_pay_received</th>\n",
              "      <th>2016_overtime_pay</th>\n",
              "      <th>department</th>\n",
              "      <th>department_name</th>\n",
              "      <th>division</th>\n",
              "      <th>assignment_category</th>\n",
              "      <th>employee_position_title</th>\n",
              "      <th>underfilled_job_title</th>\n",
              "      <th>date_first_hired</th>\n",
              "      <th>year_first_hired</th>\n",
              "      <th>Current Annual Salary</th>\n",
              "      <th>Date First Hired</th>\n",
              "      <th>Year First Hired</th>\n",
              "    </tr>\n",
              "  </thead>\n",
              "  <tbody>\n",
              "    <tr>\n",
              "      <th>0</th>\n",
              "      <td>Aarhus, Pam J.</td>\n",
              "      <td>F</td>\n",
              "      <td>71225.98</td>\n",
              "      <td>416.10</td>\n",
              "      <td>POL</td>\n",
              "      <td>Department of Police</td>\n",
              "      <td>MSB Information Mgmt and Tech Division Records...</td>\n",
              "      <td>Fulltime-Regular</td>\n",
              "      <td>Office Services Coordinator</td>\n",
              "      <td>None</td>\n",
              "      <td>09/22/1986</td>\n",
              "      <td>1986.0</td>\n",
              "      <td>69222.18</td>\n",
              "      <td>1986-09-22</td>\n",
              "      <td>1986</td>\n",
              "    </tr>\n",
              "    <tr>\n",
              "      <th>1</th>\n",
              "      <td>Aaron, David J.</td>\n",
              "      <td>M</td>\n",
              "      <td>103088.48</td>\n",
              "      <td>3326.19</td>\n",
              "      <td>POL</td>\n",
              "      <td>Department of Police</td>\n",
              "      <td>ISB Major Crimes Division Fugitive Section</td>\n",
              "      <td>Fulltime-Regular</td>\n",
              "      <td>Master Police Officer</td>\n",
              "      <td>None</td>\n",
              "      <td>09/12/1988</td>\n",
              "      <td>1988.0</td>\n",
              "      <td>97392.47</td>\n",
              "      <td>1988-09-12</td>\n",
              "      <td>1988</td>\n",
              "    </tr>\n",
              "    <tr>\n",
              "      <th>2</th>\n",
              "      <td>Aaron, Marsha M.</td>\n",
              "      <td>F</td>\n",
              "      <td>107000.24</td>\n",
              "      <td>1353.32</td>\n",
              "      <td>HHS</td>\n",
              "      <td>Department of Health and Human Services</td>\n",
              "      <td>Adult Protective and Case Management Services</td>\n",
              "      <td>Fulltime-Regular</td>\n",
              "      <td>Social Worker IV</td>\n",
              "      <td>None</td>\n",
              "      <td>11/19/1989</td>\n",
              "      <td>1989.0</td>\n",
              "      <td>104717.28</td>\n",
              "      <td>1989-11-19</td>\n",
              "      <td>1989</td>\n",
              "    </tr>\n",
              "    <tr>\n",
              "      <th>3</th>\n",
              "      <td>Ababio, Godfred A.</td>\n",
              "      <td>M</td>\n",
              "      <td>57819.04</td>\n",
              "      <td>3423.07</td>\n",
              "      <td>COR</td>\n",
              "      <td>Correction and Rehabilitation</td>\n",
              "      <td>PRRS Facility and Security</td>\n",
              "      <td>Fulltime-Regular</td>\n",
              "      <td>Resident Supervisor II</td>\n",
              "      <td>None</td>\n",
              "      <td>05/05/2014</td>\n",
              "      <td>2014.0</td>\n",
              "      <td>52734.57</td>\n",
              "      <td>2014-05-05</td>\n",
              "      <td>2014</td>\n",
              "    </tr>\n",
              "    <tr>\n",
              "      <th>4</th>\n",
              "      <td>Ababu, Essayas</td>\n",
              "      <td>M</td>\n",
              "      <td>95815.17</td>\n",
              "      <td>NaN</td>\n",
              "      <td>HCA</td>\n",
              "      <td>Department of Housing and Community Affairs</td>\n",
              "      <td>Affordable Housing Programs</td>\n",
              "      <td>Fulltime-Regular</td>\n",
              "      <td>Planning Specialist III</td>\n",
              "      <td>None</td>\n",
              "      <td>03/05/2007</td>\n",
              "      <td>2007.0</td>\n",
              "      <td>93396.00</td>\n",
              "      <td>2007-03-05</td>\n",
              "      <td>2007</td>\n",
              "    </tr>\n",
              "  </tbody>\n",
              "</table>\n",
              "</div>\n",
              "      <button class=\"colab-df-convert\" onclick=\"convertToInteractive('df-c7974885-81f7-4a6f-b00c-a888e3d83cca')\"\n",
              "              title=\"Convert this dataframe to an interactive table.\"\n",
              "              style=\"display:none;\">\n",
              "        \n",
              "  <svg xmlns=\"http://www.w3.org/2000/svg\" height=\"24px\"viewBox=\"0 0 24 24\"\n",
              "       width=\"24px\">\n",
              "    <path d=\"M0 0h24v24H0V0z\" fill=\"none\"/>\n",
              "    <path d=\"M18.56 5.44l.94 2.06.94-2.06 2.06-.94-2.06-.94-.94-2.06-.94 2.06-2.06.94zm-11 1L8.5 8.5l.94-2.06 2.06-.94-2.06-.94L8.5 2.5l-.94 2.06-2.06.94zm10 10l.94 2.06.94-2.06 2.06-.94-2.06-.94-.94-2.06-.94 2.06-2.06.94z\"/><path d=\"M17.41 7.96l-1.37-1.37c-.4-.4-.92-.59-1.43-.59-.52 0-1.04.2-1.43.59L10.3 9.45l-7.72 7.72c-.78.78-.78 2.05 0 2.83L4 21.41c.39.39.9.59 1.41.59.51 0 1.02-.2 1.41-.59l7.78-7.78 2.81-2.81c.8-.78.8-2.07 0-2.86zM5.41 20L4 18.59l7.72-7.72 1.47 1.35L5.41 20z\"/>\n",
              "  </svg>\n",
              "      </button>\n",
              "      \n",
              "  <style>\n",
              "    .colab-df-container {\n",
              "      display:flex;\n",
              "      flex-wrap:wrap;\n",
              "      gap: 12px;\n",
              "    }\n",
              "\n",
              "    .colab-df-convert {\n",
              "      background-color: #E8F0FE;\n",
              "      border: none;\n",
              "      border-radius: 50%;\n",
              "      cursor: pointer;\n",
              "      display: none;\n",
              "      fill: #1967D2;\n",
              "      height: 32px;\n",
              "      padding: 0 0 0 0;\n",
              "      width: 32px;\n",
              "    }\n",
              "\n",
              "    .colab-df-convert:hover {\n",
              "      background-color: #E2EBFA;\n",
              "      box-shadow: 0px 1px 2px rgba(60, 64, 67, 0.3), 0px 1px 3px 1px rgba(60, 64, 67, 0.15);\n",
              "      fill: #174EA6;\n",
              "    }\n",
              "\n",
              "    [theme=dark] .colab-df-convert {\n",
              "      background-color: #3B4455;\n",
              "      fill: #D2E3FC;\n",
              "    }\n",
              "\n",
              "    [theme=dark] .colab-df-convert:hover {\n",
              "      background-color: #434B5C;\n",
              "      box-shadow: 0px 1px 3px 1px rgba(0, 0, 0, 0.15);\n",
              "      filter: drop-shadow(0px 1px 2px rgba(0, 0, 0, 0.3));\n",
              "      fill: #FFFFFF;\n",
              "    }\n",
              "  </style>\n",
              "\n",
              "      <script>\n",
              "        const buttonEl =\n",
              "          document.querySelector('#df-c7974885-81f7-4a6f-b00c-a888e3d83cca button.colab-df-convert');\n",
              "        buttonEl.style.display =\n",
              "          google.colab.kernel.accessAllowed ? 'block' : 'none';\n",
              "\n",
              "        async function convertToInteractive(key) {\n",
              "          const element = document.querySelector('#df-c7974885-81f7-4a6f-b00c-a888e3d83cca');\n",
              "          const dataTable =\n",
              "            await google.colab.kernel.invokeFunction('convertToInteractive',\n",
              "                                                     [key], {});\n",
              "          if (!dataTable) return;\n",
              "\n",
              "          const docLinkHtml = 'Like what you see? Visit the ' +\n",
              "            '<a target=\"_blank\" href=https://colab.research.google.com/notebooks/data_table.ipynb>data table notebook</a>'\n",
              "            + ' to learn more about interactive tables.';\n",
              "          element.innerHTML = '';\n",
              "          dataTable['output_type'] = 'display_data';\n",
              "          await google.colab.output.renderOutput(dataTable, element);\n",
              "          const docLink = document.createElement('div');\n",
              "          docLink.innerHTML = docLinkHtml;\n",
              "          element.appendChild(docLink);\n",
              "        }\n",
              "      </script>\n",
              "    </div>\n",
              "  </div>\n",
              "  "
            ],
            "text/plain": [
              "            full_name gender  2016_gross_pay_received  2016_overtime_pay  \\\n",
              "0      Aarhus, Pam J.      F                 71225.98             416.10   \n",
              "1     Aaron, David J.      M                103088.48            3326.19   \n",
              "2    Aaron, Marsha M.      F                107000.24            1353.32   \n",
              "3  Ababio, Godfred A.      M                 57819.04            3423.07   \n",
              "4      Ababu, Essayas      M                 95815.17                NaN   \n",
              "\n",
              "  department                              department_name  \\\n",
              "0        POL                         Department of Police   \n",
              "1        POL                         Department of Police   \n",
              "2        HHS      Department of Health and Human Services   \n",
              "3        COR                Correction and Rehabilitation   \n",
              "4        HCA  Department of Housing and Community Affairs   \n",
              "\n",
              "                                            division assignment_category  \\\n",
              "0  MSB Information Mgmt and Tech Division Records...    Fulltime-Regular   \n",
              "1         ISB Major Crimes Division Fugitive Section    Fulltime-Regular   \n",
              "2      Adult Protective and Case Management Services    Fulltime-Regular   \n",
              "3                         PRRS Facility and Security    Fulltime-Regular   \n",
              "4                        Affordable Housing Programs    Fulltime-Regular   \n",
              "\n",
              "       employee_position_title underfilled_job_title date_first_hired  \\\n",
              "0  Office Services Coordinator                  None       09/22/1986   \n",
              "1        Master Police Officer                  None       09/12/1988   \n",
              "2             Social Worker IV                  None       11/19/1989   \n",
              "3       Resident Supervisor II                  None       05/05/2014   \n",
              "4      Planning Specialist III                  None       03/05/2007   \n",
              "\n",
              "   year_first_hired  Current Annual Salary Date First Hired  Year First Hired  \n",
              "0            1986.0               69222.18       1986-09-22              1986  \n",
              "1            1988.0               97392.47       1988-09-12              1988  \n",
              "2            1989.0              104717.28       1989-11-19              1989  \n",
              "3            2014.0               52734.57       2014-05-05              2014  \n",
              "4            2007.0               93396.00       2007-03-05              2007  "
            ]
          },
          "metadata": {},
          "execution_count": 227
        }
      ]
    },
    {
      "cell_type": "code",
      "source": [
        "df=pd.DataFrame()\n",
        "data.dtypes"
      ],
      "metadata": {
        "colab": {
          "base_uri": "https://localhost:8080/"
        },
        "id": "gytHA2xNxgB0",
        "outputId": "0270b66d-5751-42ab-bdb0-22836c193d1b"
      },
      "execution_count": 228,
      "outputs": [
        {
          "output_type": "execute_result",
          "data": {
            "text/plain": [
              "full_name                          object\n",
              "gender                           category\n",
              "2016_gross_pay_received           float64\n",
              "2016_overtime_pay                 float64\n",
              "department                       category\n",
              "department_name                  category\n",
              "division                           object\n",
              "assignment_category              category\n",
              "employee_position_title            object\n",
              "underfilled_job_title              object\n",
              "date_first_hired                   object\n",
              "year_first_hired                  float64\n",
              "Current Annual Salary             float64\n",
              "Date First Hired           datetime64[ns]\n",
              "Year First Hired                    int64\n",
              "dtype: object"
            ]
          },
          "metadata": {},
          "execution_count": 228
        }
      ]
    },
    {
      "cell_type": "code",
      "source": [
        "# columns \n",
        "data.columns\n"
      ],
      "metadata": {
        "colab": {
          "base_uri": "https://localhost:8080/"
        },
        "id": "mSfEea0nvKsI",
        "outputId": "042df993-5da4-49ad-9948-aca473c49d23"
      },
      "execution_count": 229,
      "outputs": [
        {
          "output_type": "execute_result",
          "data": {
            "text/plain": [
              "Index(['full_name', 'gender', '2016_gross_pay_received', '2016_overtime_pay',\n",
              "       'department', 'department_name', 'division', 'assignment_category',\n",
              "       'employee_position_title', 'underfilled_job_title', 'date_first_hired',\n",
              "       'year_first_hired', 'Current Annual Salary', 'Date First Hired',\n",
              "       'Year First Hired'],\n",
              "      dtype='object')"
            ]
          },
          "metadata": {},
          "execution_count": 229
        }
      ]
    },
    {
      "cell_type": "code",
      "source": [
        "#Numeric data\n",
        "data._get_numeric_data().columns"
      ],
      "metadata": {
        "colab": {
          "base_uri": "https://localhost:8080/"
        },
        "id": "hM6gYy7q06CL",
        "outputId": "4f3a12c3-ff82-444a-9bc1-f3664d63554d"
      },
      "execution_count": 230,
      "outputs": [
        {
          "output_type": "execute_result",
          "data": {
            "text/plain": [
              "Index(['2016_gross_pay_received', '2016_overtime_pay', 'year_first_hired',\n",
              "       'Current Annual Salary', 'Year First Hired'],\n",
              "      dtype='object')"
            ]
          },
          "metadata": {},
          "execution_count": 230
        }
      ]
    },
    {
      "cell_type": "code",
      "source": [
        "#Nominal and categorical data\n",
        "for j in range(len(data._get_numeric_data().columns)):\n",
        " NominalCategoricalColumns= [x for x in data.columns if x != data._get_numeric_data().columns[j]]\n",
        "NominalCategoricalColumns"
      ],
      "metadata": {
        "colab": {
          "base_uri": "https://localhost:8080/"
        },
        "id": "6pTT8Xz_uQVf",
        "outputId": "8a0b6b97-9573-4c16-a727-0d1787e91039"
      },
      "execution_count": 231,
      "outputs": [
        {
          "output_type": "execute_result",
          "data": {
            "text/plain": [
              "['full_name',\n",
              " 'gender',\n",
              " '2016_gross_pay_received',\n",
              " '2016_overtime_pay',\n",
              " 'department',\n",
              " 'department_name',\n",
              " 'division',\n",
              " 'assignment_category',\n",
              " 'employee_position_title',\n",
              " 'underfilled_job_title',\n",
              " 'date_first_hired',\n",
              " 'year_first_hired',\n",
              " 'Current Annual Salary',\n",
              " 'Date First Hired']"
            ]
          },
          "metadata": {},
          "execution_count": 231
        }
      ]
    },
    {
      "cell_type": "markdown",
      "source": [
        "## Label encoder "
      ],
      "metadata": {
        "id": "rkiSHr0LFb4s"
      }
    },
    {
      "cell_type": "markdown",
      "source": [
        "### Encodage de toutes les données"
      ],
      "metadata": {
        "id": "VZoNK3-6Jfkq"
      }
    },
    {
      "cell_type": "code",
      "source": [
        "from sklearn.preprocessing import LabelEncoder\n",
        "try :\n",
        "  paseur=LabelEncoder()\n",
        "  Data=pd.DataFrame()\n",
        "  for i in data.columns:\n",
        "    Data[i]=paseur.fit_transform(data[i])\n",
        "except TypeError:\n",
        "  pass\n",
        "Data"
      ],
      "metadata": {
        "colab": {
          "base_uri": "https://localhost:8080/",
          "height": 522
        },
        "id": "cvm4y9uNFbJb",
        "outputId": "525462b5-556f-4ecc-d8e2-7eefae76788c"
      },
      "execution_count": 232,
      "outputs": [
        {
          "output_type": "execute_result",
          "data": {
            "text/html": [
              "\n",
              "  <div id=\"df-42d69ef7-6448-46a6-b836-2769fc64ce87\">\n",
              "    <div class=\"colab-df-container\">\n",
              "      <div>\n",
              "<style scoped>\n",
              "    .dataframe tbody tr th:only-of-type {\n",
              "        vertical-align: middle;\n",
              "    }\n",
              "\n",
              "    .dataframe tbody tr th {\n",
              "        vertical-align: top;\n",
              "    }\n",
              "\n",
              "    .dataframe thead th {\n",
              "        text-align: right;\n",
              "    }\n",
              "</style>\n",
              "<table border=\"1\" class=\"dataframe\">\n",
              "  <thead>\n",
              "    <tr style=\"text-align: right;\">\n",
              "      <th></th>\n",
              "      <th>full_name</th>\n",
              "      <th>gender</th>\n",
              "      <th>2016_gross_pay_received</th>\n",
              "      <th>2016_overtime_pay</th>\n",
              "      <th>department</th>\n",
              "      <th>department_name</th>\n",
              "      <th>division</th>\n",
              "      <th>assignment_category</th>\n",
              "      <th>employee_position_title</th>\n",
              "      <th>underfilled_job_title</th>\n",
              "      <th>date_first_hired</th>\n",
              "      <th>year_first_hired</th>\n",
              "      <th>Current Annual Salary</th>\n",
              "      <th>Date First Hired</th>\n",
              "      <th>Year First Hired</th>\n",
              "    </tr>\n",
              "  </thead>\n",
              "  <tbody>\n",
              "    <tr>\n",
              "      <th>0</th>\n",
              "      <td>0</td>\n",
              "      <td>0</td>\n",
              "      <td>3888</td>\n",
              "      <td>601</td>\n",
              "      <td>32</td>\n",
              "      <td>14</td>\n",
              "      <td>368</td>\n",
              "      <td>0</td>\n",
              "      <td>237</td>\n",
              "      <td>83</td>\n",
              "      <td>1634</td>\n",
              "      <td>20</td>\n",
              "      <td>1717</td>\n",
              "      <td>329</td>\n",
              "      <td>20</td>\n",
              "    </tr>\n",
              "    <tr>\n",
              "      <th>1</th>\n",
              "      <td>1</td>\n",
              "      <td>1</td>\n",
              "      <td>7013</td>\n",
              "      <td>2078</td>\n",
              "      <td>32</td>\n",
              "      <td>14</td>\n",
              "      <td>309</td>\n",
              "      <td>0</td>\n",
              "      <td>225</td>\n",
              "      <td>83</td>\n",
              "      <td>1575</td>\n",
              "      <td>22</td>\n",
              "      <td>2801</td>\n",
              "      <td>463</td>\n",
              "      <td>22</td>\n",
              "    </tr>\n",
              "    <tr>\n",
              "      <th>2</th>\n",
              "      <td>2</td>\n",
              "      <td>0</td>\n",
              "      <td>7370</td>\n",
              "      <td>1261</td>\n",
              "      <td>19</td>\n",
              "      <td>10</td>\n",
              "      <td>18</td>\n",
              "      <td>0</td>\n",
              "      <td>340</td>\n",
              "      <td>83</td>\n",
              "      <td>2038</td>\n",
              "      <td>23</td>\n",
              "      <td>2931</td>\n",
              "      <td>547</td>\n",
              "      <td>23</td>\n",
              "    </tr>\n",
              "    <tr>\n",
              "      <th>3</th>\n",
              "      <td>3</td>\n",
              "      <td>1</td>\n",
              "      <td>2360</td>\n",
              "      <td>2111</td>\n",
              "      <td>6</td>\n",
              "      <td>4</td>\n",
              "      <td>435</td>\n",
              "      <td>0</td>\n",
              "      <td>297</td>\n",
              "      <td>83</td>\n",
              "      <td>749</td>\n",
              "      <td>48</td>\n",
              "      <td>830</td>\n",
              "      <td>2141</td>\n",
              "      <td>48</td>\n",
              "    </tr>\n",
              "    <tr>\n",
              "      <th>4</th>\n",
              "      <td>4</td>\n",
              "      <td>1</td>\n",
              "      <td>6385</td>\n",
              "      <td>6173</td>\n",
              "      <td>18</td>\n",
              "      <td>11</td>\n",
              "      <td>21</td>\n",
              "      <td>0</td>\n",
              "      <td>245</td>\n",
              "      <td>83</td>\n",
              "      <td>404</td>\n",
              "      <td>41</td>\n",
              "      <td>2681</td>\n",
              "      <td>1735</td>\n",
              "      <td>41</td>\n",
              "    </tr>\n",
              "    <tr>\n",
              "      <th>...</th>\n",
              "      <td>...</td>\n",
              "      <td>...</td>\n",
              "      <td>...</td>\n",
              "      <td>...</td>\n",
              "      <td>...</td>\n",
              "      <td>...</td>\n",
              "      <td>...</td>\n",
              "      <td>...</td>\n",
              "      <td>...</td>\n",
              "      <td>...</td>\n",
              "      <td>...</td>\n",
              "      <td>...</td>\n",
              "      <td>...</td>\n",
              "      <td>...</td>\n",
              "      <td>...</td>\n",
              "    </tr>\n",
              "    <tr>\n",
              "      <th>9206</th>\n",
              "      <td>9195</td>\n",
              "      <td>0</td>\n",
              "      <td>2394</td>\n",
              "      <td>6173</td>\n",
              "      <td>19</td>\n",
              "      <td>10</td>\n",
              "      <td>539</td>\n",
              "      <td>0</td>\n",
              "      <td>45</td>\n",
              "      <td>83</td>\n",
              "      <td>1930</td>\n",
              "      <td>49</td>\n",
              "      <td>1863</td>\n",
              "      <td>2222</td>\n",
              "      <td>49</td>\n",
              "    </tr>\n",
              "    <tr>\n",
              "      <th>9207</th>\n",
              "      <td>9196</td>\n",
              "      <td>0</td>\n",
              "      <td>8847</td>\n",
              "      <td>1028</td>\n",
              "      <td>17</td>\n",
              "      <td>20</td>\n",
              "      <td>290</td>\n",
              "      <td>0</td>\n",
              "      <td>138</td>\n",
              "      <td>83</td>\n",
              "      <td>2091</td>\n",
              "      <td>22</td>\n",
              "      <td>3357</td>\n",
              "      <td>480</td>\n",
              "      <td>22</td>\n",
              "    </tr>\n",
              "    <tr>\n",
              "      <th>9208</th>\n",
              "      <td>9197</td>\n",
              "      <td>1</td>\n",
              "      <td>7156</td>\n",
              "      <td>6173</td>\n",
              "      <td>19</td>\n",
              "      <td>10</td>\n",
              "      <td>83</td>\n",
              "      <td>1</td>\n",
              "      <td>230</td>\n",
              "      <td>83</td>\n",
              "      <td>716</td>\n",
              "      <td>35</td>\n",
              "      <td>2904</td>\n",
              "      <td>1307</td>\n",
              "      <td>35</td>\n",
              "    </tr>\n",
              "    <tr>\n",
              "      <th>9209</th>\n",
              "      <td>9198</td>\n",
              "      <td>1</td>\n",
              "      <td>8635</td>\n",
              "      <td>6173</td>\n",
              "      <td>3</td>\n",
              "      <td>6</td>\n",
              "      <td>110</td>\n",
              "      <td>0</td>\n",
              "      <td>221</td>\n",
              "      <td>83</td>\n",
              "      <td>1528</td>\n",
              "      <td>40</td>\n",
              "      <td>3315</td>\n",
              "      <td>1699</td>\n",
              "      <td>40</td>\n",
              "    </tr>\n",
              "    <tr>\n",
              "      <th>9210</th>\n",
              "      <td>9199</td>\n",
              "      <td>1</td>\n",
              "      <td>4305</td>\n",
              "      <td>6173</td>\n",
              "      <td>11</td>\n",
              "      <td>12</td>\n",
              "      <td>351</td>\n",
              "      <td>0</td>\n",
              "      <td>10</td>\n",
              "      <td>83</td>\n",
              "      <td>192</td>\n",
              "      <td>46</td>\n",
              "      <td>2013</td>\n",
              "      <td>2011</td>\n",
              "      <td>46</td>\n",
              "    </tr>\n",
              "  </tbody>\n",
              "</table>\n",
              "<p>9211 rows × 15 columns</p>\n",
              "</div>\n",
              "      <button class=\"colab-df-convert\" onclick=\"convertToInteractive('df-42d69ef7-6448-46a6-b836-2769fc64ce87')\"\n",
              "              title=\"Convert this dataframe to an interactive table.\"\n",
              "              style=\"display:none;\">\n",
              "        \n",
              "  <svg xmlns=\"http://www.w3.org/2000/svg\" height=\"24px\"viewBox=\"0 0 24 24\"\n",
              "       width=\"24px\">\n",
              "    <path d=\"M0 0h24v24H0V0z\" fill=\"none\"/>\n",
              "    <path d=\"M18.56 5.44l.94 2.06.94-2.06 2.06-.94-2.06-.94-.94-2.06-.94 2.06-2.06.94zm-11 1L8.5 8.5l.94-2.06 2.06-.94-2.06-.94L8.5 2.5l-.94 2.06-2.06.94zm10 10l.94 2.06.94-2.06 2.06-.94-2.06-.94-.94-2.06-.94 2.06-2.06.94z\"/><path d=\"M17.41 7.96l-1.37-1.37c-.4-.4-.92-.59-1.43-.59-.52 0-1.04.2-1.43.59L10.3 9.45l-7.72 7.72c-.78.78-.78 2.05 0 2.83L4 21.41c.39.39.9.59 1.41.59.51 0 1.02-.2 1.41-.59l7.78-7.78 2.81-2.81c.8-.78.8-2.07 0-2.86zM5.41 20L4 18.59l7.72-7.72 1.47 1.35L5.41 20z\"/>\n",
              "  </svg>\n",
              "      </button>\n",
              "      \n",
              "  <style>\n",
              "    .colab-df-container {\n",
              "      display:flex;\n",
              "      flex-wrap:wrap;\n",
              "      gap: 12px;\n",
              "    }\n",
              "\n",
              "    .colab-df-convert {\n",
              "      background-color: #E8F0FE;\n",
              "      border: none;\n",
              "      border-radius: 50%;\n",
              "      cursor: pointer;\n",
              "      display: none;\n",
              "      fill: #1967D2;\n",
              "      height: 32px;\n",
              "      padding: 0 0 0 0;\n",
              "      width: 32px;\n",
              "    }\n",
              "\n",
              "    .colab-df-convert:hover {\n",
              "      background-color: #E2EBFA;\n",
              "      box-shadow: 0px 1px 2px rgba(60, 64, 67, 0.3), 0px 1px 3px 1px rgba(60, 64, 67, 0.15);\n",
              "      fill: #174EA6;\n",
              "    }\n",
              "\n",
              "    [theme=dark] .colab-df-convert {\n",
              "      background-color: #3B4455;\n",
              "      fill: #D2E3FC;\n",
              "    }\n",
              "\n",
              "    [theme=dark] .colab-df-convert:hover {\n",
              "      background-color: #434B5C;\n",
              "      box-shadow: 0px 1px 3px 1px rgba(0, 0, 0, 0.15);\n",
              "      filter: drop-shadow(0px 1px 2px rgba(0, 0, 0, 0.3));\n",
              "      fill: #FFFFFF;\n",
              "    }\n",
              "  </style>\n",
              "\n",
              "      <script>\n",
              "        const buttonEl =\n",
              "          document.querySelector('#df-42d69ef7-6448-46a6-b836-2769fc64ce87 button.colab-df-convert');\n",
              "        buttonEl.style.display =\n",
              "          google.colab.kernel.accessAllowed ? 'block' : 'none';\n",
              "\n",
              "        async function convertToInteractive(key) {\n",
              "          const element = document.querySelector('#df-42d69ef7-6448-46a6-b836-2769fc64ce87');\n",
              "          const dataTable =\n",
              "            await google.colab.kernel.invokeFunction('convertToInteractive',\n",
              "                                                     [key], {});\n",
              "          if (!dataTable) return;\n",
              "\n",
              "          const docLinkHtml = 'Like what you see? Visit the ' +\n",
              "            '<a target=\"_blank\" href=https://colab.research.google.com/notebooks/data_table.ipynb>data table notebook</a>'\n",
              "            + ' to learn more about interactive tables.';\n",
              "          element.innerHTML = '';\n",
              "          dataTable['output_type'] = 'display_data';\n",
              "          await google.colab.output.renderOutput(dataTable, element);\n",
              "          const docLink = document.createElement('div');\n",
              "          docLink.innerHTML = docLinkHtml;\n",
              "          element.appendChild(docLink);\n",
              "        }\n",
              "      </script>\n",
              "    </div>\n",
              "  </div>\n",
              "  "
            ],
            "text/plain": [
              "      full_name  gender  2016_gross_pay_received  2016_overtime_pay  \\\n",
              "0             0       0                     3888                601   \n",
              "1             1       1                     7013               2078   \n",
              "2             2       0                     7370               1261   \n",
              "3             3       1                     2360               2111   \n",
              "4             4       1                     6385               6173   \n",
              "...         ...     ...                      ...                ...   \n",
              "9206       9195       0                     2394               6173   \n",
              "9207       9196       0                     8847               1028   \n",
              "9208       9197       1                     7156               6173   \n",
              "9209       9198       1                     8635               6173   \n",
              "9210       9199       1                     4305               6173   \n",
              "\n",
              "      department  department_name  division  assignment_category  \\\n",
              "0             32               14       368                    0   \n",
              "1             32               14       309                    0   \n",
              "2             19               10        18                    0   \n",
              "3              6                4       435                    0   \n",
              "4             18               11        21                    0   \n",
              "...          ...              ...       ...                  ...   \n",
              "9206          19               10       539                    0   \n",
              "9207          17               20       290                    0   \n",
              "9208          19               10        83                    1   \n",
              "9209           3                6       110                    0   \n",
              "9210          11               12       351                    0   \n",
              "\n",
              "      employee_position_title  underfilled_job_title  date_first_hired  \\\n",
              "0                         237                     83              1634   \n",
              "1                         225                     83              1575   \n",
              "2                         340                     83              2038   \n",
              "3                         297                     83               749   \n",
              "4                         245                     83               404   \n",
              "...                       ...                    ...               ...   \n",
              "9206                       45                     83              1930   \n",
              "9207                      138                     83              2091   \n",
              "9208                      230                     83               716   \n",
              "9209                      221                     83              1528   \n",
              "9210                       10                     83               192   \n",
              "\n",
              "      year_first_hired  Current Annual Salary  Date First Hired  \\\n",
              "0                   20                   1717               329   \n",
              "1                   22                   2801               463   \n",
              "2                   23                   2931               547   \n",
              "3                   48                    830              2141   \n",
              "4                   41                   2681              1735   \n",
              "...                ...                    ...               ...   \n",
              "9206                49                   1863              2222   \n",
              "9207                22                   3357               480   \n",
              "9208                35                   2904              1307   \n",
              "9209                40                   3315              1699   \n",
              "9210                46                   2013              2011   \n",
              "\n",
              "      Year First Hired  \n",
              "0                   20  \n",
              "1                   22  \n",
              "2                   23  \n",
              "3                   48  \n",
              "4                   41  \n",
              "...                ...  \n",
              "9206                49  \n",
              "9207                22  \n",
              "9208                35  \n",
              "9209                40  \n",
              "9210                46  \n",
              "\n",
              "[9211 rows x 15 columns]"
            ]
          },
          "metadata": {},
          "execution_count": 232
        }
      ]
    },
    {
      "cell_type": "markdown",
      "source": [
        "#loop pour vérification sur une échantillon"
      ],
      "metadata": {
        "id": "IV6hBQINIMW5"
      }
    },
    {
      "cell_type": "code",
      "source": [
        "sample=data['employee_position_title']\n",
        "sample = sample.values\n",
        "sample = sample[:10]\n",
        "sample"
      ],
      "metadata": {
        "colab": {
          "base_uri": "https://localhost:8080/"
        },
        "id": "JkhRUtrBJu8y",
        "outputId": "6e3d22bf-d01f-4644-9de0-602626c64cd2"
      },
      "execution_count": 233,
      "outputs": [
        {
          "output_type": "execute_result",
          "data": {
            "text/plain": [
              "array(['Office Services Coordinator', 'Master Police Officer',\n",
              "       'Social Worker IV', 'Resident Supervisor II',\n",
              "       'Planning Specialist III', 'Police Officer III',\n",
              "       'Accountant/Auditor II', 'Administrative Specialist II',\n",
              "       'Firefighter/Rescuer III', 'Police Aide'], dtype=object)"
            ]
          },
          "metadata": {},
          "execution_count": 233
        }
      ]
    },
    {
      "cell_type": "code",
      "source": [
        "labelenc_=paseur.fit_transform(sample)\n",
        "labelenc_"
      ],
      "metadata": {
        "colab": {
          "base_uri": "https://localhost:8080/"
        },
        "id": "yEqnys8nKpuL",
        "outputId": "48862add-3a06-49f7-8f1c-5fb35daa3b0e"
      },
      "execution_count": 133,
      "outputs": [
        {
          "output_type": "execute_result",
          "data": {
            "text/plain": [
              "array([4, 3, 9, 8, 5, 7, 0, 1, 2, 6])"
            ]
          },
          "metadata": {},
          "execution_count": 133
        }
      ]
    },
    {
      "cell_type": "code",
      "source": [
        "labelencdf_ = pd.DataFrame(labelenc_, index=sample.ravel())\n",
        "labelencdf_"
      ],
      "metadata": {
        "colab": {
          "base_uri": "https://localhost:8080/",
          "height": 363
        },
        "id": "NWF1h3WqLGF6",
        "outputId": "4043d4c2-9a12-490d-b530-94810cc1f99d"
      },
      "execution_count": 234,
      "outputs": [
        {
          "output_type": "execute_result",
          "data": {
            "text/html": [
              "\n",
              "  <div id=\"df-7a9cf47c-a3b3-4b55-b9b9-b57a59a47710\">\n",
              "    <div class=\"colab-df-container\">\n",
              "      <div>\n",
              "<style scoped>\n",
              "    .dataframe tbody tr th:only-of-type {\n",
              "        vertical-align: middle;\n",
              "    }\n",
              "\n",
              "    .dataframe tbody tr th {\n",
              "        vertical-align: top;\n",
              "    }\n",
              "\n",
              "    .dataframe thead th {\n",
              "        text-align: right;\n",
              "    }\n",
              "</style>\n",
              "<table border=\"1\" class=\"dataframe\">\n",
              "  <thead>\n",
              "    <tr style=\"text-align: right;\">\n",
              "      <th></th>\n",
              "      <th>0</th>\n",
              "    </tr>\n",
              "  </thead>\n",
              "  <tbody>\n",
              "    <tr>\n",
              "      <th>Office Services Coordinator</th>\n",
              "      <td>4</td>\n",
              "    </tr>\n",
              "    <tr>\n",
              "      <th>Master Police Officer</th>\n",
              "      <td>3</td>\n",
              "    </tr>\n",
              "    <tr>\n",
              "      <th>Social Worker IV</th>\n",
              "      <td>9</td>\n",
              "    </tr>\n",
              "    <tr>\n",
              "      <th>Resident Supervisor II</th>\n",
              "      <td>8</td>\n",
              "    </tr>\n",
              "    <tr>\n",
              "      <th>Planning Specialist III</th>\n",
              "      <td>5</td>\n",
              "    </tr>\n",
              "    <tr>\n",
              "      <th>Police Officer III</th>\n",
              "      <td>7</td>\n",
              "    </tr>\n",
              "    <tr>\n",
              "      <th>Accountant/Auditor II</th>\n",
              "      <td>0</td>\n",
              "    </tr>\n",
              "    <tr>\n",
              "      <th>Administrative Specialist II</th>\n",
              "      <td>1</td>\n",
              "    </tr>\n",
              "    <tr>\n",
              "      <th>Firefighter/Rescuer III</th>\n",
              "      <td>2</td>\n",
              "    </tr>\n",
              "    <tr>\n",
              "      <th>Police Aide</th>\n",
              "      <td>6</td>\n",
              "    </tr>\n",
              "  </tbody>\n",
              "</table>\n",
              "</div>\n",
              "      <button class=\"colab-df-convert\" onclick=\"convertToInteractive('df-7a9cf47c-a3b3-4b55-b9b9-b57a59a47710')\"\n",
              "              title=\"Convert this dataframe to an interactive table.\"\n",
              "              style=\"display:none;\">\n",
              "        \n",
              "  <svg xmlns=\"http://www.w3.org/2000/svg\" height=\"24px\"viewBox=\"0 0 24 24\"\n",
              "       width=\"24px\">\n",
              "    <path d=\"M0 0h24v24H0V0z\" fill=\"none\"/>\n",
              "    <path d=\"M18.56 5.44l.94 2.06.94-2.06 2.06-.94-2.06-.94-.94-2.06-.94 2.06-2.06.94zm-11 1L8.5 8.5l.94-2.06 2.06-.94-2.06-.94L8.5 2.5l-.94 2.06-2.06.94zm10 10l.94 2.06.94-2.06 2.06-.94-2.06-.94-.94-2.06-.94 2.06-2.06.94z\"/><path d=\"M17.41 7.96l-1.37-1.37c-.4-.4-.92-.59-1.43-.59-.52 0-1.04.2-1.43.59L10.3 9.45l-7.72 7.72c-.78.78-.78 2.05 0 2.83L4 21.41c.39.39.9.59 1.41.59.51 0 1.02-.2 1.41-.59l7.78-7.78 2.81-2.81c.8-.78.8-2.07 0-2.86zM5.41 20L4 18.59l7.72-7.72 1.47 1.35L5.41 20z\"/>\n",
              "  </svg>\n",
              "      </button>\n",
              "      \n",
              "  <style>\n",
              "    .colab-df-container {\n",
              "      display:flex;\n",
              "      flex-wrap:wrap;\n",
              "      gap: 12px;\n",
              "    }\n",
              "\n",
              "    .colab-df-convert {\n",
              "      background-color: #E8F0FE;\n",
              "      border: none;\n",
              "      border-radius: 50%;\n",
              "      cursor: pointer;\n",
              "      display: none;\n",
              "      fill: #1967D2;\n",
              "      height: 32px;\n",
              "      padding: 0 0 0 0;\n",
              "      width: 32px;\n",
              "    }\n",
              "\n",
              "    .colab-df-convert:hover {\n",
              "      background-color: #E2EBFA;\n",
              "      box-shadow: 0px 1px 2px rgba(60, 64, 67, 0.3), 0px 1px 3px 1px rgba(60, 64, 67, 0.15);\n",
              "      fill: #174EA6;\n",
              "    }\n",
              "\n",
              "    [theme=dark] .colab-df-convert {\n",
              "      background-color: #3B4455;\n",
              "      fill: #D2E3FC;\n",
              "    }\n",
              "\n",
              "    [theme=dark] .colab-df-convert:hover {\n",
              "      background-color: #434B5C;\n",
              "      box-shadow: 0px 1px 3px 1px rgba(0, 0, 0, 0.15);\n",
              "      filter: drop-shadow(0px 1px 2px rgba(0, 0, 0, 0.3));\n",
              "      fill: #FFFFFF;\n",
              "    }\n",
              "  </style>\n",
              "\n",
              "      <script>\n",
              "        const buttonEl =\n",
              "          document.querySelector('#df-7a9cf47c-a3b3-4b55-b9b9-b57a59a47710 button.colab-df-convert');\n",
              "        buttonEl.style.display =\n",
              "          google.colab.kernel.accessAllowed ? 'block' : 'none';\n",
              "\n",
              "        async function convertToInteractive(key) {\n",
              "          const element = document.querySelector('#df-7a9cf47c-a3b3-4b55-b9b9-b57a59a47710');\n",
              "          const dataTable =\n",
              "            await google.colab.kernel.invokeFunction('convertToInteractive',\n",
              "                                                     [key], {});\n",
              "          if (!dataTable) return;\n",
              "\n",
              "          const docLinkHtml = 'Like what you see? Visit the ' +\n",
              "            '<a target=\"_blank\" href=https://colab.research.google.com/notebooks/data_table.ipynb>data table notebook</a>'\n",
              "            + ' to learn more about interactive tables.';\n",
              "          element.innerHTML = '';\n",
              "          dataTable['output_type'] = 'display_data';\n",
              "          await google.colab.output.renderOutput(dataTable, element);\n",
              "          const docLink = document.createElement('div');\n",
              "          docLink.innerHTML = docLinkHtml;\n",
              "          element.appendChild(docLink);\n",
              "        }\n",
              "      </script>\n",
              "    </div>\n",
              "  </div>\n",
              "  "
            ],
            "text/plain": [
              "                              0\n",
              "Office Services Coordinator   4\n",
              "Master Police Officer         3\n",
              "Social Worker IV              9\n",
              "Resident Supervisor II        8\n",
              "Planning Specialist III       5\n",
              "Police Officer III            7\n",
              "Accountant/Auditor II         0\n",
              "Administrative Specialist II  1\n",
              "Firefighter/Rescuer III       2\n",
              "Police Aide                   6"
            ]
          },
          "metadata": {},
          "execution_count": 234
        }
      ]
    },
    {
      "cell_type": "markdown",
      "source": [
        "## One-hot Encoder"
      ],
      "metadata": {
        "id": "vYJpRzCUIMhJ"
      }
    },
    {
      "cell_type": "code",
      "source": [
        "from sklearn.preprocessing import OneHotEncoder\n",
        "paseur = OneHotEncoder(sparse=False)\n",
        "onehot = paseur.fit_transform(sample.reshape(-1, 1))\n",
        "onehot"
      ],
      "metadata": {
        "colab": {
          "base_uri": "https://localhost:8080/"
        },
        "id": "O-ds49ChKmHm",
        "outputId": "89cb3e59-065f-43b5-befe-0a6c1d6eb263"
      },
      "execution_count": 235,
      "outputs": [
        {
          "output_type": "execute_result",
          "data": {
            "text/plain": [
              "array([[0., 0., 0., 0., 1., 0., 0., 0., 0., 0.],\n",
              "       [0., 0., 0., 1., 0., 0., 0., 0., 0., 0.],\n",
              "       [0., 0., 0., 0., 0., 0., 0., 0., 0., 1.],\n",
              "       [0., 0., 0., 0., 0., 0., 0., 0., 1., 0.],\n",
              "       [0., 0., 0., 0., 0., 1., 0., 0., 0., 0.],\n",
              "       [0., 0., 0., 0., 0., 0., 0., 1., 0., 0.],\n",
              "       [1., 0., 0., 0., 0., 0., 0., 0., 0., 0.],\n",
              "       [0., 1., 0., 0., 0., 0., 0., 0., 0., 0.],\n",
              "       [0., 0., 1., 0., 0., 0., 0., 0., 0., 0.],\n",
              "       [0., 0., 0., 0., 0., 0., 1., 0., 0., 0.]])"
            ]
          },
          "metadata": {},
          "execution_count": 235
        }
      ]
    },
    {
      "cell_type": "code",
      "source": [
        "onehot_df = pd.DataFrame(onehot, index=sample.ravel())\n",
        "onehot_df"
      ],
      "metadata": {
        "colab": {
          "base_uri": "https://localhost:8080/",
          "height": 363
        },
        "id": "THpUxJKYILnt",
        "outputId": "107c68f2-0e0f-4f32-bf51-7313a1dd1696"
      },
      "execution_count": 236,
      "outputs": [
        {
          "output_type": "execute_result",
          "data": {
            "text/html": [
              "\n",
              "  <div id=\"df-83df21c0-f825-413b-a128-c6e1c6381dfe\">\n",
              "    <div class=\"colab-df-container\">\n",
              "      <div>\n",
              "<style scoped>\n",
              "    .dataframe tbody tr th:only-of-type {\n",
              "        vertical-align: middle;\n",
              "    }\n",
              "\n",
              "    .dataframe tbody tr th {\n",
              "        vertical-align: top;\n",
              "    }\n",
              "\n",
              "    .dataframe thead th {\n",
              "        text-align: right;\n",
              "    }\n",
              "</style>\n",
              "<table border=\"1\" class=\"dataframe\">\n",
              "  <thead>\n",
              "    <tr style=\"text-align: right;\">\n",
              "      <th></th>\n",
              "      <th>0</th>\n",
              "      <th>1</th>\n",
              "      <th>2</th>\n",
              "      <th>3</th>\n",
              "      <th>4</th>\n",
              "      <th>5</th>\n",
              "      <th>6</th>\n",
              "      <th>7</th>\n",
              "      <th>8</th>\n",
              "      <th>9</th>\n",
              "    </tr>\n",
              "  </thead>\n",
              "  <tbody>\n",
              "    <tr>\n",
              "      <th>Office Services Coordinator</th>\n",
              "      <td>0.0</td>\n",
              "      <td>0.0</td>\n",
              "      <td>0.0</td>\n",
              "      <td>0.0</td>\n",
              "      <td>1.0</td>\n",
              "      <td>0.0</td>\n",
              "      <td>0.0</td>\n",
              "      <td>0.0</td>\n",
              "      <td>0.0</td>\n",
              "      <td>0.0</td>\n",
              "    </tr>\n",
              "    <tr>\n",
              "      <th>Master Police Officer</th>\n",
              "      <td>0.0</td>\n",
              "      <td>0.0</td>\n",
              "      <td>0.0</td>\n",
              "      <td>1.0</td>\n",
              "      <td>0.0</td>\n",
              "      <td>0.0</td>\n",
              "      <td>0.0</td>\n",
              "      <td>0.0</td>\n",
              "      <td>0.0</td>\n",
              "      <td>0.0</td>\n",
              "    </tr>\n",
              "    <tr>\n",
              "      <th>Social Worker IV</th>\n",
              "      <td>0.0</td>\n",
              "      <td>0.0</td>\n",
              "      <td>0.0</td>\n",
              "      <td>0.0</td>\n",
              "      <td>0.0</td>\n",
              "      <td>0.0</td>\n",
              "      <td>0.0</td>\n",
              "      <td>0.0</td>\n",
              "      <td>0.0</td>\n",
              "      <td>1.0</td>\n",
              "    </tr>\n",
              "    <tr>\n",
              "      <th>Resident Supervisor II</th>\n",
              "      <td>0.0</td>\n",
              "      <td>0.0</td>\n",
              "      <td>0.0</td>\n",
              "      <td>0.0</td>\n",
              "      <td>0.0</td>\n",
              "      <td>0.0</td>\n",
              "      <td>0.0</td>\n",
              "      <td>0.0</td>\n",
              "      <td>1.0</td>\n",
              "      <td>0.0</td>\n",
              "    </tr>\n",
              "    <tr>\n",
              "      <th>Planning Specialist III</th>\n",
              "      <td>0.0</td>\n",
              "      <td>0.0</td>\n",
              "      <td>0.0</td>\n",
              "      <td>0.0</td>\n",
              "      <td>0.0</td>\n",
              "      <td>1.0</td>\n",
              "      <td>0.0</td>\n",
              "      <td>0.0</td>\n",
              "      <td>0.0</td>\n",
              "      <td>0.0</td>\n",
              "    </tr>\n",
              "    <tr>\n",
              "      <th>Police Officer III</th>\n",
              "      <td>0.0</td>\n",
              "      <td>0.0</td>\n",
              "      <td>0.0</td>\n",
              "      <td>0.0</td>\n",
              "      <td>0.0</td>\n",
              "      <td>0.0</td>\n",
              "      <td>0.0</td>\n",
              "      <td>1.0</td>\n",
              "      <td>0.0</td>\n",
              "      <td>0.0</td>\n",
              "    </tr>\n",
              "    <tr>\n",
              "      <th>Accountant/Auditor II</th>\n",
              "      <td>1.0</td>\n",
              "      <td>0.0</td>\n",
              "      <td>0.0</td>\n",
              "      <td>0.0</td>\n",
              "      <td>0.0</td>\n",
              "      <td>0.0</td>\n",
              "      <td>0.0</td>\n",
              "      <td>0.0</td>\n",
              "      <td>0.0</td>\n",
              "      <td>0.0</td>\n",
              "    </tr>\n",
              "    <tr>\n",
              "      <th>Administrative Specialist II</th>\n",
              "      <td>0.0</td>\n",
              "      <td>1.0</td>\n",
              "      <td>0.0</td>\n",
              "      <td>0.0</td>\n",
              "      <td>0.0</td>\n",
              "      <td>0.0</td>\n",
              "      <td>0.0</td>\n",
              "      <td>0.0</td>\n",
              "      <td>0.0</td>\n",
              "      <td>0.0</td>\n",
              "    </tr>\n",
              "    <tr>\n",
              "      <th>Firefighter/Rescuer III</th>\n",
              "      <td>0.0</td>\n",
              "      <td>0.0</td>\n",
              "      <td>1.0</td>\n",
              "      <td>0.0</td>\n",
              "      <td>0.0</td>\n",
              "      <td>0.0</td>\n",
              "      <td>0.0</td>\n",
              "      <td>0.0</td>\n",
              "      <td>0.0</td>\n",
              "      <td>0.0</td>\n",
              "    </tr>\n",
              "    <tr>\n",
              "      <th>Police Aide</th>\n",
              "      <td>0.0</td>\n",
              "      <td>0.0</td>\n",
              "      <td>0.0</td>\n",
              "      <td>0.0</td>\n",
              "      <td>0.0</td>\n",
              "      <td>0.0</td>\n",
              "      <td>1.0</td>\n",
              "      <td>0.0</td>\n",
              "      <td>0.0</td>\n",
              "      <td>0.0</td>\n",
              "    </tr>\n",
              "  </tbody>\n",
              "</table>\n",
              "</div>\n",
              "      <button class=\"colab-df-convert\" onclick=\"convertToInteractive('df-83df21c0-f825-413b-a128-c6e1c6381dfe')\"\n",
              "              title=\"Convert this dataframe to an interactive table.\"\n",
              "              style=\"display:none;\">\n",
              "        \n",
              "  <svg xmlns=\"http://www.w3.org/2000/svg\" height=\"24px\"viewBox=\"0 0 24 24\"\n",
              "       width=\"24px\">\n",
              "    <path d=\"M0 0h24v24H0V0z\" fill=\"none\"/>\n",
              "    <path d=\"M18.56 5.44l.94 2.06.94-2.06 2.06-.94-2.06-.94-.94-2.06-.94 2.06-2.06.94zm-11 1L8.5 8.5l.94-2.06 2.06-.94-2.06-.94L8.5 2.5l-.94 2.06-2.06.94zm10 10l.94 2.06.94-2.06 2.06-.94-2.06-.94-.94-2.06-.94 2.06-2.06.94z\"/><path d=\"M17.41 7.96l-1.37-1.37c-.4-.4-.92-.59-1.43-.59-.52 0-1.04.2-1.43.59L10.3 9.45l-7.72 7.72c-.78.78-.78 2.05 0 2.83L4 21.41c.39.39.9.59 1.41.59.51 0 1.02-.2 1.41-.59l7.78-7.78 2.81-2.81c.8-.78.8-2.07 0-2.86zM5.41 20L4 18.59l7.72-7.72 1.47 1.35L5.41 20z\"/>\n",
              "  </svg>\n",
              "      </button>\n",
              "      \n",
              "  <style>\n",
              "    .colab-df-container {\n",
              "      display:flex;\n",
              "      flex-wrap:wrap;\n",
              "      gap: 12px;\n",
              "    }\n",
              "\n",
              "    .colab-df-convert {\n",
              "      background-color: #E8F0FE;\n",
              "      border: none;\n",
              "      border-radius: 50%;\n",
              "      cursor: pointer;\n",
              "      display: none;\n",
              "      fill: #1967D2;\n",
              "      height: 32px;\n",
              "      padding: 0 0 0 0;\n",
              "      width: 32px;\n",
              "    }\n",
              "\n",
              "    .colab-df-convert:hover {\n",
              "      background-color: #E2EBFA;\n",
              "      box-shadow: 0px 1px 2px rgba(60, 64, 67, 0.3), 0px 1px 3px 1px rgba(60, 64, 67, 0.15);\n",
              "      fill: #174EA6;\n",
              "    }\n",
              "\n",
              "    [theme=dark] .colab-df-convert {\n",
              "      background-color: #3B4455;\n",
              "      fill: #D2E3FC;\n",
              "    }\n",
              "\n",
              "    [theme=dark] .colab-df-convert:hover {\n",
              "      background-color: #434B5C;\n",
              "      box-shadow: 0px 1px 3px 1px rgba(0, 0, 0, 0.15);\n",
              "      filter: drop-shadow(0px 1px 2px rgba(0, 0, 0, 0.3));\n",
              "      fill: #FFFFFF;\n",
              "    }\n",
              "  </style>\n",
              "\n",
              "      <script>\n",
              "        const buttonEl =\n",
              "          document.querySelector('#df-83df21c0-f825-413b-a128-c6e1c6381dfe button.colab-df-convert');\n",
              "        buttonEl.style.display =\n",
              "          google.colab.kernel.accessAllowed ? 'block' : 'none';\n",
              "\n",
              "        async function convertToInteractive(key) {\n",
              "          const element = document.querySelector('#df-83df21c0-f825-413b-a128-c6e1c6381dfe');\n",
              "          const dataTable =\n",
              "            await google.colab.kernel.invokeFunction('convertToInteractive',\n",
              "                                                     [key], {});\n",
              "          if (!dataTable) return;\n",
              "\n",
              "          const docLinkHtml = 'Like what you see? Visit the ' +\n",
              "            '<a target=\"_blank\" href=https://colab.research.google.com/notebooks/data_table.ipynb>data table notebook</a>'\n",
              "            + ' to learn more about interactive tables.';\n",
              "          element.innerHTML = '';\n",
              "          dataTable['output_type'] = 'display_data';\n",
              "          await google.colab.output.renderOutput(dataTable, element);\n",
              "          const docLink = document.createElement('div');\n",
              "          docLink.innerHTML = docLinkHtml;\n",
              "          element.appendChild(docLink);\n",
              "        }\n",
              "      </script>\n",
              "    </div>\n",
              "  </div>\n",
              "  "
            ],
            "text/plain": [
              "                                0    1    2    3    4    5    6    7    8    9\n",
              "Office Services Coordinator   0.0  0.0  0.0  0.0  1.0  0.0  0.0  0.0  0.0  0.0\n",
              "Master Police Officer         0.0  0.0  0.0  1.0  0.0  0.0  0.0  0.0  0.0  0.0\n",
              "Social Worker IV              0.0  0.0  0.0  0.0  0.0  0.0  0.0  0.0  0.0  1.0\n",
              "Resident Supervisor II        0.0  0.0  0.0  0.0  0.0  0.0  0.0  0.0  1.0  0.0\n",
              "Planning Specialist III       0.0  0.0  0.0  0.0  0.0  1.0  0.0  0.0  0.0  0.0\n",
              "Police Officer III            0.0  0.0  0.0  0.0  0.0  0.0  0.0  1.0  0.0  0.0\n",
              "Accountant/Auditor II         1.0  0.0  0.0  0.0  0.0  0.0  0.0  0.0  0.0  0.0\n",
              "Administrative Specialist II  0.0  1.0  0.0  0.0  0.0  0.0  0.0  0.0  0.0  0.0\n",
              "Firefighter/Rescuer III       0.0  0.0  1.0  0.0  0.0  0.0  0.0  0.0  0.0  0.0\n",
              "Police Aide                   0.0  0.0  0.0  0.0  0.0  0.0  1.0  0.0  0.0  0.0"
            ]
          },
          "metadata": {},
          "execution_count": 236
        }
      ]
    },
    {
      "cell_type": "markdown",
      "source": [
        "## Similarity Encoding"
      ],
      "metadata": {
        "id": "l3Rzr7wKLohq"
      }
    },
    {
      "cell_type": "code",
      "source": [
        "paseur = SimilarityEncoder(similarity=\"ngram\")\n",
        "X_enc = paseur.fit_transform(sample.reshape(-1, 1))\n",
        "X_enc"
      ],
      "metadata": {
        "colab": {
          "base_uri": "https://localhost:8080/"
        },
        "id": "aoXbAu_7LqU0",
        "outputId": "3ae813a4-a5ae-42cd-8253-6475ed675e25"
      },
      "execution_count": 237,
      "outputs": [
        {
          "output_type": "execute_result",
          "data": {
            "text/plain": [
              "array([[0.05882353, 0.03125   , 0.02739726, 0.19008264, 1.        ,\n",
              "        0.01351351, 0.05555556, 0.20535714, 0.08088235, 0.032     ],\n",
              "       [0.008     , 0.02083333, 0.056     , 1.        , 0.19008264,\n",
              "        0.02325581, 0.23076923, 0.56      , 0.01574803, 0.02777778],\n",
              "       [0.03738318, 0.07317073, 0.05405405, 0.02777778, 0.032     ,\n",
              "        0.0733945 , 0.        , 0.0625    , 0.06542056, 1.        ],\n",
              "       [0.11206897, 0.07142857, 0.09756098, 0.01574803, 0.08088235,\n",
              "        0.07142857, 0.03125   , 0.08108108, 1.        , 0.06542056],\n",
              "       [0.04761905, 0.3539823 , 0.06976744, 0.02325581, 0.01351351,\n",
              "        1.        , 0.02      , 0.09821429, 0.07142857, 0.0733945 ],\n",
              "       [0.0733945 , 0.05343511, 0.14953271, 0.56      , 0.20535714,\n",
              "        0.09821429, 0.26086957, 1.        , 0.08108108, 0.0625    ],\n",
              "       [1.        , 0.05      , 0.06451613, 0.008     , 0.05882353,\n",
              "        0.04761905, 0.01052632, 0.0733945 , 0.11206897, 0.03738318],\n",
              "       [0.05      , 1.        , 0.03378378, 0.02083333, 0.03125   ,\n",
              "        0.3539823 , 0.02631579, 0.05343511, 0.07142857, 0.07317073],\n",
              "       [0.06451613, 0.03378378, 1.        , 0.056     , 0.02739726,\n",
              "        0.06976744, 0.        , 0.14953271, 0.09756098, 0.05405405],\n",
              "       [0.01052632, 0.02631579, 0.        , 0.23076923, 0.05555556,\n",
              "        0.02      , 1.        , 0.26086957, 0.03125   , 0.        ]])"
            ]
          },
          "metadata": {},
          "execution_count": 237
        }
      ]
    },
    {
      "cell_type": "code",
      "source": [
        "from sklearn.preprocessing import normalize\n",
        "def plot_similarity(labels, features):\n",
        "    normalized_features = normalize(features)\n",
        "    corr = np.inner(normalized_features, normalized_features)\n",
        "    sns.set(font_scale=1.2)\n",
        "    g = sns.heatmap(\n",
        "        corr,\n",
        "        xticklabels=labels,\n",
        "        yticklabels=labels,\n",
        "        vmin=0,\n",
        "        vmax=1,\n",
        "        cmap='Blues',\n",
        "        annot=True,\n",
        "        annot_kws={\"size\": 10},\n",
        "    )\n",
        "    g.set_xticklabels(labels, rotation=90)\n",
        "    g.set_title(\"Similarity\")\n",
        "\n",
        "\n",
        "def encode_and_plot(labels):\n",
        "    paseur = SimilarityEncoder(similarity=\"ngram\")\n",
        "    X_enc = paseur.fit_transform(labels.reshape(-1, 1))\n",
        "    plot_similarity(labels, X_enc)\n",
        "encode_and_plot(sample)"
      ],
      "metadata": {
        "colab": {
          "base_uri": "https://localhost:8080/",
          "height": 457
        },
        "id": "_UnFgPj0MTHy",
        "outputId": "5ef49001-baa6-4617-9be1-7938d53e0819"
      },
      "execution_count": 238,
      "outputs": [
        {
          "output_type": "display_data",
          "data": {
            "image/png": "[encoded data removed]",
            "text/plain": [
              "<Figure size 432x288 with 2 Axes>"
            ]
          },
          "metadata": {}
        }
      ]
    },
    {
      "cell_type": "markdown",
      "source": [
        "## Compaison"
      ],
      "metadata": {
        "id": "JBzmmCc3Nvfy"
      }
    },
    {
      "cell_type": "markdown",
      "source": [
        "One-hot Encoding vs Similarity Encoding"
      ],
      "metadata": {
        "id": "m5DAxs8RN1AC"
      }
    },
    {
      "cell_type": "code",
      "source": [
        "from sklearn.preprocessing import FunctionTransformer, StandardScaler\n",
        "from sklearn.compose import ColumnTransformer\n",
        "from sklearn.pipeline import Pipeline\n",
        "from sklearn.model_selection import KFold, cross_val_score\n",
        "from sklearn.linear_model import RidgeCV"
      ],
      "metadata": {
        "id": "Td46iLAxOX85"
      },
      "execution_count": 239,
      "outputs": []
    },
    {
      "cell_type": "code",
      "source": [
        "paseur=LabelEncoder()\n",
        "y = paseur.fit_transform(data[\"Current Annual Salary\"].values)"
      ],
      "metadata": {
        "id": "9KnkdXWFRLMn"
      },
      "execution_count": 241,
      "outputs": []
    },
    {
      "cell_type": "code",
      "source": [
        "clean_columns = {\n",
        "    \"gender\": \"one-hot\",\n",
        "    \"department_name\": \"one-hot\",\n",
        "    \"assignment_category\": \"one-hot\",\n",
        "    \"Year First Hired\": \"numerical\",\n",
        "}"
      ],
      "metadata": {
        "id": "iymmtLMjQ0qM"
      },
      "execution_count": 240,
      "outputs": []
    },
    {
      "cell_type": "code",
      "source": [
        "encoding_methods = [\"one-hot\", \"similarity\"]"
      ],
      "metadata": {
        "id": "mwbDtkKYQZy2"
      },
      "execution_count": 242,
      "outputs": []
    },
    {
      "cell_type": "code",
      "source": [
        "encoders_dict = {\n",
        "    \"one-hot\": OneHotEncoder(handle_unknown=\"ignore\", sparse=False),\n",
        "    \"similarity\": SimilarityEncoder(similarity=\"ngram\"),\n",
        "     \"numerical\": FunctionTransformer(None),\n",
        "   \n",
        "}"
      ],
      "metadata": {
        "id": "AHGlPnVQQcij"
      },
      "execution_count": 243,
      "outputs": []
    },
    {
      "cell_type": "code",
      "source": [
        "dirty_column='employee_position_title'\n",
        "def make_pipeline(encoding_method):\n",
        "    # static transformers from the other columns\n",
        "    transformers = [\n",
        "        (enc + \"_\" + col, encoders_dict[enc], [col])\n",
        "        for col, enc in clean_columns.items()\n",
        "    ]\n",
        "    # adding the encoded column\n",
        "    transformers += [(encoding_method, encoders_dict[encoding_method], [dirty_column])]\n",
        "    pipeline = Pipeline(\n",
        "        [\n",
        "            # Use ColumnTransformer to combine the features\n",
        "            (\"union\", ColumnTransformer(transformers=transformers, remainder=\"drop\")),\n",
        "            (\"scaler\", StandardScaler(with_mean=False)),\n",
        "            (\"clf\", RidgeCV()),\n",
        "        ]\n",
        "    )\n",
        "    return pipeline"
      ],
      "metadata": {
        "id": "LuUzUA0jQhtS"
      },
      "execution_count": 244,
      "outputs": []
    },
    {
      "cell_type": "code",
      "source": [
        "all_scores = dict()\n",
        "\n",
        "cv = KFold(n_splits=5, random_state=12, shuffle=True)\n",
        "scoring = \"r2\"\n",
        "for method in encoding_methods:\n",
        "    pipeline = make_pipeline(method)\n",
        "    scores = cross_val_score(pipeline, data, y, cv=cv, scoring=scoring)\n",
        "    print(f\"{method} encoding\")\n",
        "    print(f\"{scoring} score:  mean: {np.mean(scores):.3f}; std: {np.std(scores):.3f}\\n\")\n",
        "    all_scores[method] = scores"
      ],
      "metadata": {
        "colab": {
          "base_uri": "https://localhost:8080/"
        },
        "id": "x_Xyb4x7QxDl",
        "outputId": "ca0fe3a2-6501-497d-8887-5d7d272ecd23"
      },
      "execution_count": 245,
      "outputs": [
        {
          "output_type": "stream",
          "name": "stdout",
          "text": [
            "one-hot encoding\n",
            "r2 score:  mean: 0.871; std: 0.009\n",
            "\n",
            "similarity encoding\n",
            "r2 score:  mean: 0.883; std: 0.004\n",
            "\n"
          ]
        }
      ]
    }
  ]
}